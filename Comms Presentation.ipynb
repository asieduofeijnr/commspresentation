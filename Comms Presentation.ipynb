{
 "cells": [
  {
   "cell_type": "markdown",
   "metadata": {},
   "source": [
    "## LIBRARIES - ANDREA"
   ]
  },
  {
   "cell_type": "code",
   "execution_count": 77,
   "metadata": {},
   "outputs": [],
   "source": [
    "import plotly.express as px\n",
    "import pandas as pd\n",
    "from sklearn import linear_model"
   ]
  },
  {
   "cell_type": "code",
   "execution_count": 78,
   "metadata": {},
   "outputs": [],
   "source": [
    "file_path = \"hospital_infection.csv\"\n",
    "data = pd.read_csv(file_path)"
   ]
  },
  {
   "cell_type": "markdown",
   "metadata": {},
   "source": [
    "## DATA OVERVIEW - TYLER"
   ]
  },
  {
   "cell_type": "code",
   "execution_count": 79,
   "metadata": {},
   "outputs": [
    {
     "data": {
      "text/html": [
       "<div>\n",
       "<style scoped>\n",
       "    .dataframe tbody tr th:only-of-type {\n",
       "        vertical-align: middle;\n",
       "    }\n",
       "\n",
       "    .dataframe tbody tr th {\n",
       "        vertical-align: top;\n",
       "    }\n",
       "\n",
       "    .dataframe thead th {\n",
       "        text-align: right;\n",
       "    }\n",
       "</style>\n",
       "<table border=\"1\" class=\"dataframe\">\n",
       "  <thead>\n",
       "    <tr style=\"text-align: right;\">\n",
       "      <th></th>\n",
       "      <th>ID</th>\n",
       "      <th>Stay</th>\n",
       "      <th>Age</th>\n",
       "      <th>InfctRsk</th>\n",
       "      <th>Culture</th>\n",
       "      <th>Xray</th>\n",
       "      <th>Beds</th>\n",
       "      <th>MedSchool</th>\n",
       "      <th>Region</th>\n",
       "      <th>Census</th>\n",
       "      <th>Nurses</th>\n",
       "      <th>Facilities</th>\n",
       "    </tr>\n",
       "  </thead>\n",
       "  <tbody>\n",
       "    <tr>\n",
       "      <th>0</th>\n",
       "      <td>5</td>\n",
       "      <td>11.20</td>\n",
       "      <td>56.5</td>\n",
       "      <td>5.7</td>\n",
       "      <td>34.5</td>\n",
       "      <td>88.9</td>\n",
       "      <td>180</td>\n",
       "      <td>2</td>\n",
       "      <td>1</td>\n",
       "      <td>134</td>\n",
       "      <td>151</td>\n",
       "      <td>40.0</td>\n",
       "    </tr>\n",
       "    <tr>\n",
       "      <th>1</th>\n",
       "      <td>10</td>\n",
       "      <td>8.84</td>\n",
       "      <td>56.3</td>\n",
       "      <td>6.3</td>\n",
       "      <td>29.6</td>\n",
       "      <td>82.6</td>\n",
       "      <td>85</td>\n",
       "      <td>2</td>\n",
       "      <td>1</td>\n",
       "      <td>59</td>\n",
       "      <td>66</td>\n",
       "      <td>40.0</td>\n",
       "    </tr>\n",
       "    <tr>\n",
       "      <th>2</th>\n",
       "      <td>11</td>\n",
       "      <td>11.07</td>\n",
       "      <td>53.2</td>\n",
       "      <td>4.9</td>\n",
       "      <td>28.5</td>\n",
       "      <td>122.0</td>\n",
       "      <td>768</td>\n",
       "      <td>1</td>\n",
       "      <td>1</td>\n",
       "      <td>591</td>\n",
       "      <td>656</td>\n",
       "      <td>80.0</td>\n",
       "    </tr>\n",
       "    <tr>\n",
       "      <th>3</th>\n",
       "      <td>13</td>\n",
       "      <td>12.78</td>\n",
       "      <td>56.8</td>\n",
       "      <td>7.7</td>\n",
       "      <td>46.0</td>\n",
       "      <td>116.9</td>\n",
       "      <td>322</td>\n",
       "      <td>1</td>\n",
       "      <td>1</td>\n",
       "      <td>252</td>\n",
       "      <td>349</td>\n",
       "      <td>57.1</td>\n",
       "    </tr>\n",
       "    <tr>\n",
       "      <th>4</th>\n",
       "      <td>18</td>\n",
       "      <td>11.62</td>\n",
       "      <td>53.9</td>\n",
       "      <td>6.4</td>\n",
       "      <td>25.5</td>\n",
       "      <td>99.2</td>\n",
       "      <td>133</td>\n",
       "      <td>2</td>\n",
       "      <td>1</td>\n",
       "      <td>113</td>\n",
       "      <td>101</td>\n",
       "      <td>37.1</td>\n",
       "    </tr>\n",
       "  </tbody>\n",
       "</table>\n",
       "</div>"
      ],
      "text/plain": [
       "   ID   Stay   Age  InfctRsk  Culture   Xray  Beds  MedSchool  Region  Census  \\\n",
       "0   5  11.20  56.5       5.7     34.5   88.9   180          2       1     134   \n",
       "1  10   8.84  56.3       6.3     29.6   82.6    85          2       1      59   \n",
       "2  11  11.07  53.2       4.9     28.5  122.0   768          1       1     591   \n",
       "3  13  12.78  56.8       7.7     46.0  116.9   322          1       1     252   \n",
       "4  18  11.62  53.9       6.4     25.5   99.2   133          2       1     113   \n",
       "\n",
       "   Nurses  Facilities  \n",
       "0     151        40.0  \n",
       "1      66        40.0  \n",
       "2     656        80.0  \n",
       "3     349        57.1  \n",
       "4     101        37.1  "
      ]
     },
     "execution_count": 79,
     "metadata": {},
     "output_type": "execute_result"
    }
   ],
   "source": [
    "data.head()"
   ]
  },
  {
   "cell_type": "code",
   "execution_count": 80,
   "metadata": {},
   "outputs": [],
   "source": [
    "x = data['Stay'] #Independent\n",
    "y = data['InfctRsk'] #Depenedent\n",
    "x_1 = data['Stay'].to_frame()"
   ]
  },
  {
   "cell_type": "markdown",
   "metadata": {},
   "source": [
    "## LINE OF BEST FIT - FELIX"
   ]
  },
  {
   "cell_type": "code",
   "execution_count": 81,
   "metadata": {},
   "outputs": [
    {
     "data": {
      "text/plain": [
       "(array([0.56886646]), -1.1598190341516021)"
      ]
     },
     "execution_count": 81,
     "metadata": {},
     "output_type": "execute_result"
    }
   ],
   "source": [
    "reg = linear_model.LinearRegression()\n",
    "reg.fit(x_1,y)\n",
    "ols_line = reg.coef_, reg.intercept_\n",
    "ols_line"
   ]
  },
  {
   "cell_type": "code",
   "execution_count": 82,
   "metadata": {},
   "outputs": [
    {
     "data": {
      "application/vnd.plotly.v1+json": {
       "config": {
        "plotlyServerURL": "https://plot.ly"
       },
       "data": [
        {
         "hovertemplate": "Stay=%{x}<br>InfctRsk=%{y}<extra></extra>",
         "legendgroup": "",
         "marker": {
          "color": "#636efa",
          "symbol": "circle"
         },
         "mode": "markers",
         "name": "",
         "orientation": "v",
         "showlegend": false,
         "type": "scatter",
         "x": [
          11.2,
          8.84,
          11.07,
          12.78,
          11.62,
          9.78,
          9.31,
          8.19,
          11.65,
          11.03,
          11.77,
          13.59,
          10.33,
          11.48,
          8.63,
          11.15,
          10.42,
          9.42,
          8.03,
          10.05,
          8.9,
          9.36,
          8.54,
          12.01,
          9.89,
          13.95,
          8.82,
          9.76,
          11.18,
          7.58,
          9.06,
          10.24,
          8.28,
          9.89,
          9.84,
          9.74,
          9.97,
          10.47,
          8.37,
          10.9,
          9.23,
          12.07,
          10.73,
          11.18,
          9.66,
          10.02,
          7.39,
          8.45,
          10.23,
          8.88,
          10.3,
          10.79,
          7.94,
          10.39,
          8.92,
          9.77,
          8.02,
          11.8
         ],
         "xaxis": "x",
         "y": [
          5.7,
          6.3,
          4.9,
          7.7,
          6.4,
          5,
          4.5,
          3.2,
          4.4,
          5,
          5.3,
          6.1,
          5,
          5.6,
          3.1,
          3.9,
          3.4,
          4.3,
          3.5,
          4.5,
          2.9,
          4.8,
          2.5,
          4.8,
          4.3,
          6.6,
          1.6,
          5.1,
          5.4,
          3.7,
          4.2,
          4.8,
          3.9,
          4.9,
          5.2,
          6.3,
          2.8,
          4.1,
          5.5,
          5.5,
          4.3,
          7.8,
          3.9,
          5.7,
          4.4,
          4.4,
          4.2,
          3.4,
          4.9,
          4.4,
          5.1,
          2.9,
          3.5,
          4.3,
          1.3,
          5.3,
          2.1,
          5.7
         ],
         "yaxis": "y"
        },
        {
         "hovertemplate": "<b>OLS trendline</b><br>InfctRsk = 0.568866 * Stay + -1.15982<br>R<sup>2</sup>=0.394572<br><br>Stay=%{x}<br>InfctRsk=%{y} <b>(trend)</b><extra></extra>",
         "legendgroup": "",
         "marker": {
          "color": "#636efa",
          "symbol": "circle"
         },
         "mode": "lines",
         "name": "",
         "showlegend": false,
         "type": "scatter",
         "x": [
          7.39,
          7.58,
          7.94,
          8.02,
          8.03,
          8.19,
          8.28,
          8.37,
          8.45,
          8.54,
          8.63,
          8.82,
          8.84,
          8.88,
          8.9,
          8.92,
          9.06,
          9.23,
          9.31,
          9.36,
          9.42,
          9.66,
          9.74,
          9.76,
          9.77,
          9.78,
          9.84,
          9.89,
          9.89,
          9.97,
          10.02,
          10.05,
          10.23,
          10.24,
          10.3,
          10.33,
          10.39,
          10.42,
          10.47,
          10.73,
          10.79,
          10.9,
          11.03,
          11.07,
          11.15,
          11.18,
          11.18,
          11.2,
          11.48,
          11.62,
          11.65,
          11.77,
          11.8,
          12.01,
          12.07,
          12.78,
          13.59,
          13.95
         ],
         "xaxis": "x",
         "y": [
          3.044104093903265,
          3.152188721011577,
          3.356980646058905,
          3.4024899627360883,
          3.408178627320736,
          3.4991972606751043,
          3.5503952419369362,
          3.601593223198768,
          3.647102539875952,
          3.6983005211377837,
          3.7494985023996166,
          3.8575831295079284,
          3.868960458677224,
          3.8917151170158166,
          3.9030924461851124,
          3.914469775354408,
          3.99411107953948,
          4.090818377478496,
          4.13632769415568,
          4.16477101707892,
          4.198903004586808,
          4.33543095461836,
          4.380940271295544,
          4.392317600464839,
          4.398006265049487,
          4.403694929634135,
          4.437826917142023,
          4.466270240065263,
          4.466270240065263,
          4.5117795567424475,
          4.540222879665687,
          4.5572888734196315,
          4.659684835943295,
          4.665373500527943,
          4.699505488035832,
          4.716571481789775,
          4.7507034692976635,
          4.767769463051607,
          4.796212785974848,
          4.9441180651756955,
          4.978250052683582,
          5.040825363114711,
          5.114778002715134,
          5.137532661053727,
          5.183041977730911,
          5.200107971484854,
          5.200107971484854,
          5.21148530065415,
          5.370767909024295,
          5.450409213209366,
          5.467475206963311,
          5.5357391819790855,
          5.552805175733031,
          5.672267132010638,
          5.706399119518526,
          6.110294305028533,
          6.571076136385021,
          6.775868061432348
         ],
         "yaxis": "y"
        }
       ],
       "layout": {
        "annotations": [
         {
          "font": {
           "size": 12
          },
          "showarrow": false,
          "text": "Equation: infctRSK = 0.568866*Stay + -(1.15982)",
          "x": [
           11.2,
           8.84,
           11.07,
           12.78,
           11.62,
           9.78,
           9.31,
           8.19,
           11.65,
           11.03,
           11.77,
           13.59,
           10.33,
           11.48,
           8.63,
           11.15,
           10.42,
           9.42,
           8.03,
           10.05,
           8.9,
           9.36,
           8.54,
           12.01,
           9.89,
           13.95,
           8.82,
           9.76,
           11.18,
           7.58,
           9.06,
           10.24,
           8.28,
           9.89,
           9.84,
           9.74,
           9.97,
           10.47,
           8.37,
           10.9,
           9.23,
           12.07,
           10.73,
           11.18,
           9.66,
           10.02,
           7.39,
           8.45,
           10.23,
           8.88,
           10.3,
           10.79,
           7.94,
           10.39,
           8.92,
           9.77,
           8.02,
           11.8
          ],
          "y": [
           5.7,
           6.3,
           4.9,
           7.7,
           6.4,
           5,
           4.5,
           3.2,
           4.4,
           5,
           5.3,
           6.1,
           5,
           5.6,
           3.1,
           3.9,
           3.4,
           4.3,
           3.5,
           4.5,
           2.9,
           4.8,
           2.5,
           4.8,
           4.3,
           6.6,
           1.6,
           5.1,
           5.4,
           3.7,
           4.2,
           4.8,
           3.9,
           4.9,
           5.2,
           6.3,
           2.8,
           4.1,
           5.5,
           5.5,
           4.3,
           7.8,
           3.9,
           5.7,
           4.4,
           4.4,
           4.2,
           3.4,
           4.9,
           4.4,
           5.1,
           2.9,
           3.5,
           4.3,
           1.3,
           5.3,
           2.1,
           5.7
          ]
         }
        ],
        "legend": {
         "tracegroupgap": 0
        },
        "margin": {
         "t": 60
        },
        "template": {
         "data": {
          "bar": [
           {
            "error_x": {
             "color": "#2a3f5f"
            },
            "error_y": {
             "color": "#2a3f5f"
            },
            "marker": {
             "line": {
              "color": "#E5ECF6",
              "width": 0.5
             },
             "pattern": {
              "fillmode": "overlay",
              "size": 10,
              "solidity": 0.2
             }
            },
            "type": "bar"
           }
          ],
          "barpolar": [
           {
            "marker": {
             "line": {
              "color": "#E5ECF6",
              "width": 0.5
             },
             "pattern": {
              "fillmode": "overlay",
              "size": 10,
              "solidity": 0.2
             }
            },
            "type": "barpolar"
           }
          ],
          "carpet": [
           {
            "aaxis": {
             "endlinecolor": "#2a3f5f",
             "gridcolor": "white",
             "linecolor": "white",
             "minorgridcolor": "white",
             "startlinecolor": "#2a3f5f"
            },
            "baxis": {
             "endlinecolor": "#2a3f5f",
             "gridcolor": "white",
             "linecolor": "white",
             "minorgridcolor": "white",
             "startlinecolor": "#2a3f5f"
            },
            "type": "carpet"
           }
          ],
          "choropleth": [
           {
            "colorbar": {
             "outlinewidth": 0,
             "ticks": ""
            },
            "type": "choropleth"
           }
          ],
          "contour": [
           {
            "colorbar": {
             "outlinewidth": 0,
             "ticks": ""
            },
            "colorscale": [
             [
              0,
              "#0d0887"
             ],
             [
              0.1111111111111111,
              "#46039f"
             ],
             [
              0.2222222222222222,
              "#7201a8"
             ],
             [
              0.3333333333333333,
              "#9c179e"
             ],
             [
              0.4444444444444444,
              "#bd3786"
             ],
             [
              0.5555555555555556,
              "#d8576b"
             ],
             [
              0.6666666666666666,
              "#ed7953"
             ],
             [
              0.7777777777777778,
              "#fb9f3a"
             ],
             [
              0.8888888888888888,
              "#fdca26"
             ],
             [
              1,
              "#f0f921"
             ]
            ],
            "type": "contour"
           }
          ],
          "contourcarpet": [
           {
            "colorbar": {
             "outlinewidth": 0,
             "ticks": ""
            },
            "type": "contourcarpet"
           }
          ],
          "heatmap": [
           {
            "colorbar": {
             "outlinewidth": 0,
             "ticks": ""
            },
            "colorscale": [
             [
              0,
              "#0d0887"
             ],
             [
              0.1111111111111111,
              "#46039f"
             ],
             [
              0.2222222222222222,
              "#7201a8"
             ],
             [
              0.3333333333333333,
              "#9c179e"
             ],
             [
              0.4444444444444444,
              "#bd3786"
             ],
             [
              0.5555555555555556,
              "#d8576b"
             ],
             [
              0.6666666666666666,
              "#ed7953"
             ],
             [
              0.7777777777777778,
              "#fb9f3a"
             ],
             [
              0.8888888888888888,
              "#fdca26"
             ],
             [
              1,
              "#f0f921"
             ]
            ],
            "type": "heatmap"
           }
          ],
          "heatmapgl": [
           {
            "colorbar": {
             "outlinewidth": 0,
             "ticks": ""
            },
            "colorscale": [
             [
              0,
              "#0d0887"
             ],
             [
              0.1111111111111111,
              "#46039f"
             ],
             [
              0.2222222222222222,
              "#7201a8"
             ],
             [
              0.3333333333333333,
              "#9c179e"
             ],
             [
              0.4444444444444444,
              "#bd3786"
             ],
             [
              0.5555555555555556,
              "#d8576b"
             ],
             [
              0.6666666666666666,
              "#ed7953"
             ],
             [
              0.7777777777777778,
              "#fb9f3a"
             ],
             [
              0.8888888888888888,
              "#fdca26"
             ],
             [
              1,
              "#f0f921"
             ]
            ],
            "type": "heatmapgl"
           }
          ],
          "histogram": [
           {
            "marker": {
             "pattern": {
              "fillmode": "overlay",
              "size": 10,
              "solidity": 0.2
             }
            },
            "type": "histogram"
           }
          ],
          "histogram2d": [
           {
            "colorbar": {
             "outlinewidth": 0,
             "ticks": ""
            },
            "colorscale": [
             [
              0,
              "#0d0887"
             ],
             [
              0.1111111111111111,
              "#46039f"
             ],
             [
              0.2222222222222222,
              "#7201a8"
             ],
             [
              0.3333333333333333,
              "#9c179e"
             ],
             [
              0.4444444444444444,
              "#bd3786"
             ],
             [
              0.5555555555555556,
              "#d8576b"
             ],
             [
              0.6666666666666666,
              "#ed7953"
             ],
             [
              0.7777777777777778,
              "#fb9f3a"
             ],
             [
              0.8888888888888888,
              "#fdca26"
             ],
             [
              1,
              "#f0f921"
             ]
            ],
            "type": "histogram2d"
           }
          ],
          "histogram2dcontour": [
           {
            "colorbar": {
             "outlinewidth": 0,
             "ticks": ""
            },
            "colorscale": [
             [
              0,
              "#0d0887"
             ],
             [
              0.1111111111111111,
              "#46039f"
             ],
             [
              0.2222222222222222,
              "#7201a8"
             ],
             [
              0.3333333333333333,
              "#9c179e"
             ],
             [
              0.4444444444444444,
              "#bd3786"
             ],
             [
              0.5555555555555556,
              "#d8576b"
             ],
             [
              0.6666666666666666,
              "#ed7953"
             ],
             [
              0.7777777777777778,
              "#fb9f3a"
             ],
             [
              0.8888888888888888,
              "#fdca26"
             ],
             [
              1,
              "#f0f921"
             ]
            ],
            "type": "histogram2dcontour"
           }
          ],
          "mesh3d": [
           {
            "colorbar": {
             "outlinewidth": 0,
             "ticks": ""
            },
            "type": "mesh3d"
           }
          ],
          "parcoords": [
           {
            "line": {
             "colorbar": {
              "outlinewidth": 0,
              "ticks": ""
             }
            },
            "type": "parcoords"
           }
          ],
          "pie": [
           {
            "automargin": true,
            "type": "pie"
           }
          ],
          "scatter": [
           {
            "fillpattern": {
             "fillmode": "overlay",
             "size": 10,
             "solidity": 0.2
            },
            "type": "scatter"
           }
          ],
          "scatter3d": [
           {
            "line": {
             "colorbar": {
              "outlinewidth": 0,
              "ticks": ""
             }
            },
            "marker": {
             "colorbar": {
              "outlinewidth": 0,
              "ticks": ""
             }
            },
            "type": "scatter3d"
           }
          ],
          "scattercarpet": [
           {
            "marker": {
             "colorbar": {
              "outlinewidth": 0,
              "ticks": ""
             }
            },
            "type": "scattercarpet"
           }
          ],
          "scattergeo": [
           {
            "marker": {
             "colorbar": {
              "outlinewidth": 0,
              "ticks": ""
             }
            },
            "type": "scattergeo"
           }
          ],
          "scattergl": [
           {
            "marker": {
             "colorbar": {
              "outlinewidth": 0,
              "ticks": ""
             }
            },
            "type": "scattergl"
           }
          ],
          "scattermapbox": [
           {
            "marker": {
             "colorbar": {
              "outlinewidth": 0,
              "ticks": ""
             }
            },
            "type": "scattermapbox"
           }
          ],
          "scatterpolar": [
           {
            "marker": {
             "colorbar": {
              "outlinewidth": 0,
              "ticks": ""
             }
            },
            "type": "scatterpolar"
           }
          ],
          "scatterpolargl": [
           {
            "marker": {
             "colorbar": {
              "outlinewidth": 0,
              "ticks": ""
             }
            },
            "type": "scatterpolargl"
           }
          ],
          "scatterternary": [
           {
            "marker": {
             "colorbar": {
              "outlinewidth": 0,
              "ticks": ""
             }
            },
            "type": "scatterternary"
           }
          ],
          "surface": [
           {
            "colorbar": {
             "outlinewidth": 0,
             "ticks": ""
            },
            "colorscale": [
             [
              0,
              "#0d0887"
             ],
             [
              0.1111111111111111,
              "#46039f"
             ],
             [
              0.2222222222222222,
              "#7201a8"
             ],
             [
              0.3333333333333333,
              "#9c179e"
             ],
             [
              0.4444444444444444,
              "#bd3786"
             ],
             [
              0.5555555555555556,
              "#d8576b"
             ],
             [
              0.6666666666666666,
              "#ed7953"
             ],
             [
              0.7777777777777778,
              "#fb9f3a"
             ],
             [
              0.8888888888888888,
              "#fdca26"
             ],
             [
              1,
              "#f0f921"
             ]
            ],
            "type": "surface"
           }
          ],
          "table": [
           {
            "cells": {
             "fill": {
              "color": "#EBF0F8"
             },
             "line": {
              "color": "white"
             }
            },
            "header": {
             "fill": {
              "color": "#C8D4E3"
             },
             "line": {
              "color": "white"
             }
            },
            "type": "table"
           }
          ]
         },
         "layout": {
          "annotationdefaults": {
           "arrowcolor": "#2a3f5f",
           "arrowhead": 0,
           "arrowwidth": 1
          },
          "autotypenumbers": "strict",
          "coloraxis": {
           "colorbar": {
            "outlinewidth": 0,
            "ticks": ""
           }
          },
          "colorscale": {
           "diverging": [
            [
             0,
             "#8e0152"
            ],
            [
             0.1,
             "#c51b7d"
            ],
            [
             0.2,
             "#de77ae"
            ],
            [
             0.3,
             "#f1b6da"
            ],
            [
             0.4,
             "#fde0ef"
            ],
            [
             0.5,
             "#f7f7f7"
            ],
            [
             0.6,
             "#e6f5d0"
            ],
            [
             0.7,
             "#b8e186"
            ],
            [
             0.8,
             "#7fbc41"
            ],
            [
             0.9,
             "#4d9221"
            ],
            [
             1,
             "#276419"
            ]
           ],
           "sequential": [
            [
             0,
             "#0d0887"
            ],
            [
             0.1111111111111111,
             "#46039f"
            ],
            [
             0.2222222222222222,
             "#7201a8"
            ],
            [
             0.3333333333333333,
             "#9c179e"
            ],
            [
             0.4444444444444444,
             "#bd3786"
            ],
            [
             0.5555555555555556,
             "#d8576b"
            ],
            [
             0.6666666666666666,
             "#ed7953"
            ],
            [
             0.7777777777777778,
             "#fb9f3a"
            ],
            [
             0.8888888888888888,
             "#fdca26"
            ],
            [
             1,
             "#f0f921"
            ]
           ],
           "sequentialminus": [
            [
             0,
             "#0d0887"
            ],
            [
             0.1111111111111111,
             "#46039f"
            ],
            [
             0.2222222222222222,
             "#7201a8"
            ],
            [
             0.3333333333333333,
             "#9c179e"
            ],
            [
             0.4444444444444444,
             "#bd3786"
            ],
            [
             0.5555555555555556,
             "#d8576b"
            ],
            [
             0.6666666666666666,
             "#ed7953"
            ],
            [
             0.7777777777777778,
             "#fb9f3a"
            ],
            [
             0.8888888888888888,
             "#fdca26"
            ],
            [
             1,
             "#f0f921"
            ]
           ]
          },
          "colorway": [
           "#636efa",
           "#EF553B",
           "#00cc96",
           "#ab63fa",
           "#FFA15A",
           "#19d3f3",
           "#FF6692",
           "#B6E880",
           "#FF97FF",
           "#FECB52"
          ],
          "font": {
           "color": "#2a3f5f"
          },
          "geo": {
           "bgcolor": "white",
           "lakecolor": "white",
           "landcolor": "#E5ECF6",
           "showlakes": true,
           "showland": true,
           "subunitcolor": "white"
          },
          "hoverlabel": {
           "align": "left"
          },
          "hovermode": "closest",
          "mapbox": {
           "style": "light"
          },
          "paper_bgcolor": "white",
          "plot_bgcolor": "#E5ECF6",
          "polar": {
           "angularaxis": {
            "gridcolor": "white",
            "linecolor": "white",
            "ticks": ""
           },
           "bgcolor": "#E5ECF6",
           "radialaxis": {
            "gridcolor": "white",
            "linecolor": "white",
            "ticks": ""
           }
          },
          "scene": {
           "xaxis": {
            "backgroundcolor": "#E5ECF6",
            "gridcolor": "white",
            "gridwidth": 2,
            "linecolor": "white",
            "showbackground": true,
            "ticks": "",
            "zerolinecolor": "white"
           },
           "yaxis": {
            "backgroundcolor": "#E5ECF6",
            "gridcolor": "white",
            "gridwidth": 2,
            "linecolor": "white",
            "showbackground": true,
            "ticks": "",
            "zerolinecolor": "white"
           },
           "zaxis": {
            "backgroundcolor": "#E5ECF6",
            "gridcolor": "white",
            "gridwidth": 2,
            "linecolor": "white",
            "showbackground": true,
            "ticks": "",
            "zerolinecolor": "white"
           }
          },
          "shapedefaults": {
           "line": {
            "color": "#2a3f5f"
           }
          },
          "ternary": {
           "aaxis": {
            "gridcolor": "white",
            "linecolor": "white",
            "ticks": ""
           },
           "baxis": {
            "gridcolor": "white",
            "linecolor": "white",
            "ticks": ""
           },
           "bgcolor": "#E5ECF6",
           "caxis": {
            "gridcolor": "white",
            "linecolor": "white",
            "ticks": ""
           }
          },
          "title": {
           "x": 0.05
          },
          "xaxis": {
           "automargin": true,
           "gridcolor": "white",
           "linecolor": "white",
           "ticks": "",
           "title": {
            "standoff": 15
           },
           "zerolinecolor": "white",
           "zerolinewidth": 2
          },
          "yaxis": {
           "automargin": true,
           "gridcolor": "white",
           "linecolor": "white",
           "ticks": "",
           "title": {
            "standoff": 15
           },
           "zerolinecolor": "white",
           "zerolinewidth": 2
          }
         }
        },
        "xaxis": {
         "anchor": "y",
         "domain": [
          0,
          1
         ],
         "title": {
          "text": "Stay"
         }
        },
        "yaxis": {
         "anchor": "x",
         "domain": [
          0,
          1
         ],
         "title": {
          "text": "InfctRsk"
         }
        }
       }
      }
     },
     "metadata": {},
     "output_type": "display_data"
    }
   ],
   "source": [
    "fig = px.scatter(data,x=x, y=y, trendline='ols')\n",
    "slope = fig.data[1]['y'][0]\n",
    "intercept = fig.data[1]['y'][1]\n",
    "\n",
    "# Add a text annotation with the equation of the line\n",
    "fig.add_annotation(\n",
    "    text=f'Equation: infctRSK = 0.568866*Stay + -(1.15982)',\n",
    "    x=x,  # Adjust the x-coordinate for text placement\n",
    "    y=y,  # Adjust the y-coordinate for text placement\n",
    "    showarrow=False,\n",
    "    font=dict(size=12),\n",
    ")\n",
    "\n",
    "# Show the figure\n",
    "fig.show()"
   ]
  },
  {
   "cell_type": "markdown",
   "metadata": {},
   "source": [
    "## PREDICTION - SOLOMON"
   ]
  },
  {
   "cell_type": "code",
   "execution_count": 83,
   "metadata": {},
   "outputs": [],
   "source": [
    "stay = 10.5\n",
    "infctRSK = 0.568866* stay + -(1.15982)\n"
   ]
  },
  {
   "cell_type": "code",
   "execution_count": 84,
   "metadata": {},
   "outputs": [
    {
     "data": {
      "text/plain": [
       "4.813273"
      ]
     },
     "execution_count": 84,
     "metadata": {},
     "output_type": "execute_result"
    }
   ],
   "source": [
    "infctRSK"
   ]
  }
 ],
 "metadata": {
  "kernelspec": {
   "display_name": "msds",
   "language": "python",
   "name": "python3"
  },
  "language_info": {
   "codemirror_mode": {
    "name": "ipython",
    "version": 3
   },
   "file_extension": ".py",
   "mimetype": "text/x-python",
   "name": "python",
   "nbconvert_exporter": "python",
   "pygments_lexer": "ipython3",
   "version": "3.11.4"
  },
  "orig_nbformat": 4
 },
 "nbformat": 4,
 "nbformat_minor": 2
}
